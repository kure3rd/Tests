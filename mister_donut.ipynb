{
 "cells": [
  {
   "cell_type": "code",
   "execution_count": 49,
   "metadata": {},
   "outputs": [],
   "source": [
    "import bs4\n",
    "import urllib\n",
    "import urllib.request\n",
    "import pandas"
   ]
  },
  {
   "cell_type": "code",
   "execution_count": 50,
   "metadata": {},
   "outputs": [
    {
     "data": {
      "text/plain": [
       "[<li class=\"mod_item clm\"><a href=\"/m_menu/donut/bake22_01.html\">\n",
       " <div class=\"img\"><figure><img alt=\"ベイク チーズタルトドーナツ\" src=\"/m_menu/donut/images/144/product_1.jpg\"/></figure></div>\n",
       " <div class=\"txt\"><p>ベイク <br class=\"sp_only\"/>チーズタルト<br/>ドーナツ</p></div>\n",
       " </a></li>]"
      ]
     },
     "execution_count": 50,
     "metadata": {},
     "output_type": "execute_result"
    }
   ],
   "source": [
    "#get donuts url\n",
    "menu_url = \"https://www.misterdonut.jp/m_menu/donut/\"\n",
    "req = urllib.request.Request(menu_url)\n",
    "with urllib.request.urlopen(req) as res:\n",
    "    menu_soup = bs4.BeautifulSoup(res.read(), \"html.parser\")\n",
    "\n",
    "items = menu_soup.find_all('li', class_='mod_item clm')\n",
    "items[:1]"
   ]
  },
  {
   "cell_type": "code",
   "execution_count": 51,
   "metadata": {},
   "outputs": [
    {
     "data": {
      "text/plain": [
       "['https://www.misterdonut.jp/m_menu/donut/bake22_01.html',\n",
       " 'https://www.misterdonut.jp/m_menu/donut/bake22_02.html',\n",
       " 'https://www.misterdonut.jp/m_menu/donut/bake22_06.html',\n",
       " 'https://www.misterdonut.jp/m_menu/donut/bake22_07.html',\n",
       " 'https://www.misterdonut.jp/m_menu/donut/bake22_08.html']"
      ]
     },
     "execution_count": 51,
     "metadata": {},
     "output_type": "execute_result"
    }
   ],
   "source": [
    "donut_urls = [\"https://www.misterdonut.jp\"+item.find('a').get('href') for item in items]\n",
    "donut_urls[:5]"
   ]
  },
  {
   "cell_type": "code",
   "execution_count": 52,
   "metadata": {},
   "outputs": [
    {
     "name": "stdout",
     "output_type": "stream",
     "text": [
      "https://www.misterdonut.jp/m_menu/donut/bake22_01.html\n"
     ]
    }
   ],
   "source": [
    "donut_url = donut_urls[0]\n",
    "print(donut_url)\n",
    "req = urllib.request.Request(donut_url)\n",
    "with urllib.request.urlopen(req) as res:\n",
    "    donut_soup = bs4.BeautifulSoup(res.read(), \"html.parser\")"
   ]
  },
  {
   "cell_type": "code",
   "execution_count": 53,
   "metadata": {},
   "outputs": [
    {
     "name": "stdout",
     "output_type": "stream",
     "text": [
      "ベイク チーズタルトドーナツ\n",
      "230\n",
      "熱量\n",
      "{'熱量': '328', 'たんぱく質': '5.2', '脂質': '23.0', '炭水化物': '24.4', '食塩相当量': '0.7'}\n"
     ]
    }
   ],
   "source": [
    "print(donut_soup.find('ul', class_=\"breadCrumb_wrap\").find_all('li')[-1].text)\n",
    "print(donut_soup.find('span', class_=\"price\").text)\n",
    "nutritions = donut_soup.find('div', class_=\"ingredient_list nutrition_list\").find_all('li')\n",
    "print(nutritions[0].find('span', class_=\"name\").text)\n",
    "print({nu.find('span', class_=\"name\").text:nu.find('span', class_=\"add_comma\").text for nu in nutritions})"
   ]
  },
  {
   "cell_type": "code",
   "execution_count": 54,
   "metadata": {},
   "outputs": [
    {
     "name": "stdout",
     "output_type": "stream",
     "text": [
      "小麦 〇\n"
     ]
    }
   ],
   "source": [
    "allergys = donut_soup.find('div', class_=\"ingredient_list allergy_list\").find_all('li')\n",
    "print(allergys[0].find('span', class_=\"name\").text, allergys[0].find('dd').text)"
   ]
  },
  {
   "cell_type": "code",
   "execution_count": 55,
   "metadata": {},
   "outputs": [],
   "source": [
    "soup_list = list()\n",
    "for url in donut_urls:\n",
    "    req = urllib.request.Request(url)\n",
    "    with urllib.request.urlopen(req) as res:\n",
    "        soup = bs4.BeautifulSoup(res.read(), \"html.parser\")\n",
    "    soup_list.append(soup)"
   ]
  },
  {
   "cell_type": "code",
   "execution_count": 56,
   "metadata": {},
   "outputs": [
    {
     "name": "stdout",
     "output_type": "stream",
     "text": [
      "{'名前': 'ふかふか焼きドーナッツ プレーン[ミニサイズ] 2個入り', '価格': '400', '熱量': '186', 'たんぱく質': '1.3', '脂質': '7.7', '炭水化物': '27.4', '食塩相当量': '0.4'}\n"
     ]
    }
   ],
   "source": [
    "dict_list = list()\n",
    "for soup in soup_list:\n",
    "    d = dict()\n",
    "    d.update({\"名前\":soup.find('ul', class_=\"breadCrumb_wrap\").find_all('li')[-1].text})\n",
    "    d.update({\"価格\":soup.find('span', class_=\"price\").text})\n",
    "    nus = soup.find('div', class_=\"ingredient_list nutrition_list\").find_all('li')\n",
    "\n",
    "    d.update({nu.find('span', class_=\"name\").text:nu.find('span', class_=\"add_comma\").text for nu in nus})\n",
    "    if int(d['熱量']) < 140:\n",
    "        continue\n",
    "    try:\n",
    "        d.update({al.find('span', class_=\"name\").text:al.find('dd').text for al in soup.find('div', class_=\"ingredient_list allergy_list\").find_all('li')})\n",
    "    except:\n",
    "        print(d)\n",
    "    dict_list.append(d)"
   ]
  },
  {
   "cell_type": "code",
   "execution_count": 57,
   "metadata": {},
   "outputs": [],
   "source": [
    "df = pandas.DataFrame(dict_list)\n",
    "df.fillna('－').to_csv('donut.csv')"
   ]
  }
 ],
 "metadata": {
  "kernelspec": {
   "display_name": "Python 3.10.5 ('Tests-fnPlkf7m')",
   "language": "python",
   "name": "python3"
  },
  "language_info": {
   "codemirror_mode": {
    "name": "ipython",
    "version": 3
   },
   "file_extension": ".py",
   "mimetype": "text/x-python",
   "name": "python",
   "nbconvert_exporter": "python",
   "pygments_lexer": "ipython3",
   "version": "3.10.5"
  },
  "orig_nbformat": 4,
  "vscode": {
   "interpreter": {
    "hash": "dcd9b51a35523556869af281e94c2fa67ee009d5fc5fdc7ba76092431866ebe0"
   }
  }
 },
 "nbformat": 4,
 "nbformat_minor": 2
}
